{
 "cells": [
  {
   "cell_type": "markdown",
   "metadata": {},
   "source": [
    "# HNG NAMED ENTITY RECOGNITION"
   ]
  },
  {
   "cell_type": "markdown",
   "metadata": {},
   "source": [
    "Importing nltk, uncomment downloads if missing"
   ]
  },
  {
   "cell_type": "code",
   "execution_count": 87,
   "metadata": {},
   "outputs": [],
   "source": [
    "import nltk\n",
    "#nltk.download('punkt')\n",
    "#nltk.download('averaged_perceptron_tagger')\n",
    "#nltk.download('maxent_ne_chunker')\n",
    "#nltk.download('words')\n",
    "from nltk.tokenize import word_tokenize\n",
    "from nltk.tag import pos_tag\n"
   ]
  },
  {
   "cell_type": "markdown",
   "metadata": {},
   "source": [
    "The sentence we will be using"
   ]
  },
  {
   "cell_type": "code",
   "execution_count": 123,
   "metadata": {},
   "outputs": [],
   "source": [
    "sentence = 'Obama won election to the presidency in America 2008 and re-election in 2012. Among the hundreds of speeches he has delivered since then include six speeches before Congress (including four State of the Union addresses), two victory speeches, a speech to the Islamic world in Egypt early in his first term, and a speech following the shooting of Gabrielle Giffords, a congresswoman.'\n"
   ]
  },
  {
   "cell_type": "markdown",
   "metadata": {},
   "source": [
    "Function to add word tokenization and part of speech tagging"
   ]
  },
  {
   "cell_type": "code",
   "execution_count": 125,
   "metadata": {},
   "outputs": [],
   "source": [
    "def preprocess(sample):\n",
    "    sample = nltk.word_tokenize(sample)\n",
    "    sample = nltk.pos_tag(sample)\n",
    "    return sample"
   ]
  },
  {
   "cell_type": "markdown",
   "metadata": {},
   "source": [
    "checking\n"
   ]
  },
  {
   "cell_type": "code",
   "execution_count": 126,
   "metadata": {},
   "outputs": [
    {
     "data": {
      "text/plain": [
       "[('Obama', 'NNP'),\n",
       " ('won', 'VBD'),\n",
       " ('election', 'NN'),\n",
       " ('to', 'TO'),\n",
       " ('the', 'DT'),\n",
       " ('presidency', 'NN'),\n",
       " ('in', 'IN'),\n",
       " ('America', 'NNP'),\n",
       " ('2008', 'CD'),\n",
       " ('and', 'CC'),\n",
       " ('re-election', 'NN'),\n",
       " ('in', 'IN'),\n",
       " ('2012', 'CD'),\n",
       " ('.', '.'),\n",
       " ('Among', 'IN'),\n",
       " ('the', 'DT'),\n",
       " ('hundreds', 'NNS'),\n",
       " ('of', 'IN'),\n",
       " ('speeches', 'NNS'),\n",
       " ('he', 'PRP'),\n",
       " ('has', 'VBZ'),\n",
       " ('delivered', 'VBN'),\n",
       " ('since', 'IN'),\n",
       " ('then', 'RB'),\n",
       " ('include', 'VBP'),\n",
       " ('six', 'CD'),\n",
       " ('speeches', 'NNS'),\n",
       " ('before', 'IN'),\n",
       " ('Congress', 'NNP'),\n",
       " ('(', '('),\n",
       " ('including', 'VBG'),\n",
       " ('four', 'CD'),\n",
       " ('State', 'NN'),\n",
       " ('of', 'IN'),\n",
       " ('the', 'DT'),\n",
       " ('Union', 'NNP'),\n",
       " ('addresses', 'NNS'),\n",
       " (')', ')'),\n",
       " (',', ','),\n",
       " ('two', 'CD'),\n",
       " ('victory', 'NN'),\n",
       " ('speeches', 'NNS'),\n",
       " (',', ','),\n",
       " ('a', 'DT'),\n",
       " ('speech', 'NN'),\n",
       " ('to', 'TO'),\n",
       " ('the', 'DT'),\n",
       " ('Islamic', 'NNP'),\n",
       " ('world', 'NN'),\n",
       " ('in', 'IN'),\n",
       " ('Egypt', 'NNP'),\n",
       " ('early', 'RB'),\n",
       " ('in', 'IN'),\n",
       " ('his', 'PRP$'),\n",
       " ('first', 'JJ'),\n",
       " ('term', 'NN'),\n",
       " (',', ','),\n",
       " ('and', 'CC'),\n",
       " ('a', 'DT'),\n",
       " ('speech', 'NN'),\n",
       " ('following', 'VBG'),\n",
       " ('the', 'DT'),\n",
       " ('shooting', 'NN'),\n",
       " ('of', 'IN'),\n",
       " ('Gabrielle', 'NNP'),\n",
       " ('Giffords', 'NNP'),\n",
       " (',', ','),\n",
       " ('a', 'DT'),\n",
       " ('congresswoman', 'NN'),\n",
       " ('.', '.')]"
      ]
     },
     "execution_count": 126,
     "metadata": {},
     "output_type": "execute_result"
    }
   ],
   "source": [
    "sentence1 = preprocess(sentence)\n",
    "\n",
    "sentence1"
   ]
  },
  {
   "cell_type": "markdown",
   "metadata": {},
   "source": [
    "Noun phrase chunking to identify named entities"
   ]
  },
  {
   "cell_type": "code",
   "execution_count": 127,
   "metadata": {},
   "outputs": [
    {
     "name": "stdout",
     "output_type": "stream",
     "text": [
      "(S\n",
      "  (PERSON Obama/NNP)\n",
      "  won/VBD\n",
      "  election/NN\n",
      "  to/TO\n",
      "  the/DT\n",
      "  presidency/NN\n",
      "  in/IN\n",
      "  (GPE America/NNP)\n",
      "  2008/CD\n",
      "  and/CC\n",
      "  re-election/NN\n",
      "  in/IN\n",
      "  2012/CD\n",
      "  ./.\n",
      "  Among/IN\n",
      "  the/DT\n",
      "  hundreds/NNS\n",
      "  of/IN\n",
      "  speeches/NNS\n",
      "  he/PRP\n",
      "  has/VBZ\n",
      "  delivered/VBN\n",
      "  since/IN\n",
      "  then/RB\n",
      "  include/VBP\n",
      "  six/CD\n",
      "  speeches/NNS\n",
      "  before/IN\n",
      "  (ORGANIZATION Congress/NNP)\n",
      "  (/(\n",
      "  including/VBG\n",
      "  four/CD\n",
      "  State/NN\n",
      "  of/IN\n",
      "  the/DT\n",
      "  (ORGANIZATION Union/NNP)\n",
      "  addresses/NNS\n",
      "  )/)\n",
      "  ,/,\n",
      "  two/CD\n",
      "  victory/NN\n",
      "  speeches/NNS\n",
      "  ,/,\n",
      "  a/DT\n",
      "  speech/NN\n",
      "  to/TO\n",
      "  the/DT\n",
      "  (ORGANIZATION Islamic/NNP)\n",
      "  world/NN\n",
      "  in/IN\n",
      "  (GPE Egypt/NNP)\n",
      "  early/RB\n",
      "  in/IN\n",
      "  his/PRP$\n",
      "  first/JJ\n",
      "  term/NN\n",
      "  ,/,\n",
      "  and/CC\n",
      "  a/DT\n",
      "  speech/NN\n",
      "  following/VBG\n",
      "  the/DT\n",
      "  shooting/NN\n",
      "  of/IN\n",
      "  (PERSON Gabrielle/NNP Giffords/NNP)\n",
      "  ,/,\n",
      "  a/DT\n",
      "  congresswoman/NN\n",
      "  ./.)\n"
     ]
    }
   ],
   "source": [
    "ne_tree = nltk.ne_chunk(sentence1)\n",
    "\n",
    "print(ne_tree)"
   ]
  },
  {
   "cell_type": "code",
   "execution_count": 128,
   "metadata": {
    "scrolled": true
   },
   "outputs": [],
   "source": [
    "list_of_people = [' '.join(leaf[0] for leaf in tree.leaves()) \n",
    "                      for tree in ne_tree.subtrees() \n",
    "                      if tree.label()=='PERSON']\n",
    "\n",
    "list_of_organizations = [' '.join(leaf[0] for leaf in tree.leaves()) \n",
    "                      for tree in ne_tree.subtrees() \n",
    "                      if tree.label()=='ORGANIZATION']\n",
    "\n",
    "list_of_locations = [' '.join(leaf[0] for leaf in tree.leaves()) \n",
    "                      for tree in ne_tree.subtrees() \n",
    "                      if tree.label()=='GPE']\n",
    "\n",
    "\n",
    "\n"
   ]
  },
  {
   "cell_type": "code",
   "execution_count": 129,
   "metadata": {},
   "outputs": [],
   "source": [
    "def list_people():\n",
    "    print(\"People: \")\n",
    "    for i in list_of_people:\n",
    "        print(i)"
   ]
  },
  {
   "cell_type": "code",
   "execution_count": 130,
   "metadata": {},
   "outputs": [],
   "source": [
    "def list_organizations():\n",
    "    print(\"\\nOrganizations: \")\n",
    "    for i in list_of_organizations:\n",
    "        print(i)"
   ]
  },
  {
   "cell_type": "code",
   "execution_count": 131,
   "metadata": {},
   "outputs": [],
   "source": [
    "def list_locations():\n",
    "    print(\"\\nLocations: \")\n",
    "    for i in list_of_locations:\n",
    "        print(i)"
   ]
  },
  {
   "cell_type": "markdown",
   "metadata": {},
   "source": [
    "Results:"
   ]
  },
  {
   "cell_type": "code",
   "execution_count": 132,
   "metadata": {},
   "outputs": [
    {
     "name": "stdout",
     "output_type": "stream",
     "text": [
      "People: \n",
      "Obama\n",
      "Gabrielle Giffords\n",
      "\n",
      "Organizations: \n",
      "Congress\n",
      "Union\n",
      "Islamic\n",
      "\n",
      "Locations: \n",
      "America\n",
      "Egypt\n"
     ]
    }
   ],
   "source": [
    "list_people()\n",
    "list_organizations()\n",
    "list_locations()"
   ]
  }
 ],
 "metadata": {
  "kernelspec": {
   "display_name": "Python 3",
   "language": "python",
   "name": "python3"
  },
  "language_info": {
   "codemirror_mode": {
    "name": "ipython",
    "version": 3
   },
   "file_extension": ".py",
   "mimetype": "text/x-python",
   "name": "python",
   "nbconvert_exporter": "python",
   "pygments_lexer": "ipython3",
   "version": "3.7.3"
  }
 },
 "nbformat": 4,
 "nbformat_minor": 2
}
