{
  "nbformat": 4,
  "nbformat_minor": 0,
  "metadata": {
    "colab": {
      "name": "Named entity recognition using spacy model.ipynb",
      "provenance": [],
      "collapsed_sections": [],
      "include_colab_link": true
    },
    "kernelspec": {
      "name": "python3",
      "display_name": "Python 3"
    }
  },
  "cells": [
    {
      "cell_type": "markdown",
      "metadata": {
        "id": "view-in-github",
        "colab_type": "text"
      },
      "source": [
        "<a href=\"https://colab.research.google.com/github/NukeAce/HNG-named-entity-recognition/blob/master/Named_entity_recognition_using_spacy_model.ipynb\" target=\"_parent\"><img src=\"https://colab.research.google.com/assets/colab-badge.svg\" alt=\"Open In Colab\"/></a>"
      ]
    },
    {
      "cell_type": "code",
      "metadata": {
        "id": "fcodkn0Dot0D",
        "colab_type": "code",
        "colab": {}
      },
      "source": [
        "import spacy\n",
        "import en_core_web_sm\n",
        "nlp = en_core_web_sm.load()"
      ],
      "execution_count": 0,
      "outputs": []
    },
    {
      "cell_type": "code",
      "metadata": {
        "id": "RTHRlEKIo7NV",
        "colab_type": "code",
        "colab": {}
      },
      "source": [
        "sentence = \"European in London authorities fined Google and Harry Maguire and Annie a record $5.1 billion on Wednesday for abusing its power in the mobile phone market and ordered the company to alter its practices\""
      ],
      "execution_count": 0,
      "outputs": []
    },
    {
      "cell_type": "code",
      "metadata": {
        "id": "4pHgn8Qko7Y-",
        "colab_type": "code",
        "colab": {}
      },
      "source": [
        "doc = nlp(sentence)\n",
        "hello =([(X.text, X.label_) for X in doc.ents])"
      ],
      "execution_count": 0,
      "outputs": []
    },
    {
      "cell_type": "code",
      "metadata": {
        "id": "4QbfDjOpfdBD",
        "colab_type": "code",
        "colab": {}
      },
      "source": [
        "def entity_name(name):\n",
        "    for entity in hello:\n",
        "    if x[1] == name:\n",
        "      print(x[0])"
      ],
      "execution_count": 0,
      "outputs": []
    },
    {
      "cell_type": "code",
      "metadata": {
        "colab_type": "code",
        "id": "A0VX0z72kHhE",
        "colab": {}
      },
      "source": [
        ""
      ],
      "execution_count": 0,
      "outputs": []
    },
    {
      "cell_type": "code",
      "metadata": {
        "colab_type": "code",
        "id": "7JLsP2HPkGoW",
        "colab": {}
      },
      "source": [
        ""
      ],
      "execution_count": 0,
      "outputs": []
    },
    {
      "cell_type": "code",
      "metadata": {
        "id": "8VVU_P86lq6J",
        "colab_type": "code",
        "outputId": "271e24df-3109-4c32-ea25-90da9a7a6840",
        "colab": {
          "base_uri": "https://localhost:8080/",
          "height": 185
        }
      },
      "source": [
        "print(\"\\nOrganization(s): \")\n",
        "entity_name(\"ORG\")\n",
        "print(\"\\nPerson(s):\")\n",
        "entity_name(\"PERSON\")\n",
        "print(\"\\nLocation(s):\")\n",
        "entity_name(\"GPE\")"
      ],
      "execution_count": 0,
      "outputs": [
        {
          "output_type": "stream",
          "text": [
            "\n",
            "Organization(s): \n",
            "Google\n",
            "\n",
            "Person(s):\n",
            "Harry Maguire\n",
            "Annie\n",
            "\n",
            "Location(s):\n",
            "London\n"
          ],
          "name": "stdout"
        }
      ]
    }
  ]
}